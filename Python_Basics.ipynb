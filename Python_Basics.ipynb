{
  "nbformat": 4,
  "nbformat_minor": 0,
  "metadata": {
    "kernelspec": {
      "display_name": "Python 3",
      "language": "python",
      "name": "python3"
    },
    "language_info": {
      "codemirror_mode": {
        "name": "ipython",
        "version": 3
      },
      "file_extension": ".py",
      "mimetype": "text/x-python",
      "name": "python",
      "nbconvert_exporter": "python",
      "pygments_lexer": "ipython3",
      "version": "3.8.5"
    },
    "colab": {
      "name": "Python Basics.ipynb",
      "provenance": [],
      "include_colab_link": true
    }
  },
  "cells": [
    {
      "cell_type": "markdown",
      "metadata": {
        "id": "view-in-github",
        "colab_type": "text"
      },
      "source": [
        "<a href=\"https://colab.research.google.com/github/mayankbhandari10/AI-and-ML/blob/main/Python_Basics.ipynb\" target=\"_parent\"><img src=\"https://colab.research.google.com/assets/colab-badge.svg\" alt=\"Open In Colab\"/></a>"
      ]
    },
    {
      "cell_type": "markdown",
      "metadata": {
        "id": "U19bAHj3G1QN"
      },
      "source": [
        "# <center><u> Python basics</u></center>\n",
        "![image.png](attachment:image.png)"
      ]
    },
    {
      "cell_type": "markdown",
      "metadata": {
        "id": "dQlmh-KjG1QR"
      },
      "source": [
        "Python is emerging as the popular language used more in data science applications.\n",
        "\n",
        "Take the case of the tech giant Google that has created the deep learning framework called tensorflow – Python is the primary language used for creating this framework. Its footprint has continued to increase in the environment promoted by Netflix. Production engineers at Facebook and Khan Academy have for long been using it as a prominent language in their environment.\n",
        "\n",
        "Python became the most popular language in the data science world.\n",
        "So what are you waiting for? Lets start learning python basic as your first assignment.\n",
        "\n",
        "\n",
        "Add-on Reference: https://youtu.be/HGOBQPFzWKo\n",
        "\n",
        "Add-on reference: https://youtu.be/8DvywoWv6fI\n",
        "\n",
        "\n",
        "## Variable declaration"
      ]
    },
    {
      "cell_type": "markdown",
      "metadata": {
        "id": "ofdxBbPMG1QT"
      },
      "source": [
        "Covers the topic of variable declaration and type of variables\n",
        "\n",
        "reference:- https://youtu.be/RVYY7zMiPbg\n",
        "\n",
        "<p style='text-align: right;'> 1+1+1+1+1 = 5 points</p>\n"
      ]
    },
    {
      "cell_type": "code",
      "metadata": {
        "id": "1VBQaa1JG1QU"
      },
      "source": [
        "# declare two variables, a = 5, b = 'city'\n",
        "a = 5\n",
        "b = 'city'"
      ],
      "execution_count": null,
      "outputs": []
    },
    {
      "cell_type": "code",
      "metadata": {
        "colab": {
          "base_uri": "https://localhost:8080/"
        },
        "id": "fTTzgCUvG1QV",
        "outputId": "68024f3e-f750-4447-d70a-a8d2e2bd1a7d"
      },
      "source": [
        "# print type of a\n",
        "print(type(a))"
      ],
      "execution_count": null,
      "outputs": [
        {
          "output_type": "stream",
          "name": "stdout",
          "text": [
            "<class 'int'>\n"
          ]
        }
      ]
    },
    {
      "cell_type": "code",
      "metadata": {
        "colab": {
          "base_uri": "https://localhost:8080/"
        },
        "id": "Ybpxita3G1QV",
        "outputId": "15fc039a-0fcf-4394-c489-b4df19c6b643"
      },
      "source": [
        "# print type of b\n",
        "print(type(b))"
      ],
      "execution_count": null,
      "outputs": [
        {
          "output_type": "stream",
          "name": "stdout",
          "text": [
            "<class 'str'>\n"
          ]
        }
      ]
    },
    {
      "cell_type": "code",
      "metadata": {
        "colab": {
          "base_uri": "https://localhost:8080/"
        },
        "id": "OyI2vWQHG1QW",
        "outputId": "0cf28d2d-81c3-447a-f5da-a84ecdff7fa8"
      },
      "source": [
        "# swap the values of a and b\n",
        "num_1= 5\n",
        "num_2= 6\n",
        "num_1 = num_1+num_2\n",
        "num_2= num_1-num_2\n",
        "num_1=num_1-num_2\n",
        "print(num_1)\n",
        "print(num_2)"
      ],
      "execution_count": null,
      "outputs": [
        {
          "output_type": "stream",
          "name": "stdout",
          "text": [
            "6\n",
            "5\n"
          ]
        }
      ]
    },
    {
      "cell_type": "code",
      "metadata": {
        "id": "gF2yBo5hG1QW"
      },
      "source": [
        "# run this to confirm \n"
      ],
      "execution_count": null,
      "outputs": []
    },
    {
      "cell_type": "markdown",
      "metadata": {
        "id": "b10_CDljG1QW"
      },
      "source": [
        "Cool! so variable declaration and getting it's type was easy."
      ]
    },
    {
      "cell_type": "markdown",
      "metadata": {
        "id": "zfowk1WvG1QW"
      },
      "source": [
        "## Arithmetic Operations"
      ]
    },
    {
      "cell_type": "markdown",
      "metadata": {
        "id": "RbIXsMj1G1QX"
      },
      "source": [
        "Hey novice! this will be easy for you until you know basic arithmetic symbols like +, -, /, * etc.\n",
        "\n",
        "reference:- https://youtu.be/0-hzxfkpHy8\n",
        "\n",
        "<p style='text-align: right;'> 1 + 7 = 8 points </p>\n"
      ]
    },
    {
      "cell_type": "code",
      "metadata": {
        "id": "PVcguJBdG1QX",
        "colab": {
          "base_uri": "https://localhost:8080/"
        },
        "outputId": "23afcda7-bb7d-41ce-fd14-7c817a22ad3c"
      },
      "source": [
        "# declare two variables, a = 24, b = 3\n",
        "\n",
        "a = 24\n",
        "b = 3\n",
        "print(f\"value of of a ={a}, and value of b={b}\")"
      ],
      "execution_count": null,
      "outputs": [
        {
          "output_type": "stream",
          "name": "stdout",
          "text": [
            "value of of a =24, and value of b=3\n"
          ]
        }
      ]
    },
    {
      "cell_type": "code",
      "metadata": {
        "id": "JSoIKYEaG1QX",
        "colab": {
          "base_uri": "https://localhost:8080/"
        },
        "outputId": "cba5cfe7-6014-4ec8-a151-e534e856a13e"
      },
      "source": [
        "# calculate and print all the possible numerical operations on a and b (There are total 7 operations)\n",
        "\n",
        "a=24\n",
        "b=3\n",
        "print(f\"Addition={a+b}\")\n",
        "print(f\"substraction={a-b}\")\n",
        "print(f\"multiplication={a*b}\")\n",
        "print(f\"division={a/b}\")\n",
        "print(f\"modulus={a%b}\")\n",
        "print(f\"{a//b}\")\n",
        "print(f\"{a^b}\")\n"
      ],
      "execution_count": null,
      "outputs": [
        {
          "output_type": "stream",
          "name": "stdout",
          "text": [
            "Addition=27\n",
            "substraction=21\n",
            "multiplication=72\n",
            "division=8.0\n",
            "modulus=0\n",
            "8\n",
            "27\n"
          ]
        }
      ]
    },
    {
      "cell_type": "markdown",
      "metadata": {
        "id": "wG1ZKACyG1QY"
      },
      "source": [
        "## Math Functions"
      ]
    },
    {
      "cell_type": "markdown",
      "metadata": {
        "id": "02wNA4R2G1QY"
      },
      "source": [
        "Lets do some simple mathematical operations by using math module. Math module contains various mathematical functions. So here we go!\n",
        "\n",
        "Reference:- https://youtu.be/gktjNyV0xks\n",
        "\n",
        "Reference document: https://docs.python.org/3/library/math.html\n",
        "<p style='text-align: right;'> 10 points </p>\n",
        "\n",
        "\n"
      ]
    },
    {
      "cell_type": "code",
      "metadata": {
        "id": "2PpiBh8cG1QY"
      },
      "source": [
        "#import math"
      ],
      "execution_count": null,
      "outputs": []
    },
    {
      "cell_type": "code",
      "metadata": {
        "id": "3x10EaWlWagm"
      },
      "source": [
        "import math"
      ],
      "execution_count": null,
      "outputs": []
    },
    {
      "cell_type": "code",
      "metadata": {
        "id": "n2k5bMM8G1QY"
      },
      "source": [
        "# declare a variable x = 2 and y=5.32167\n",
        "x=2\n",
        "y=5.32167"
      ],
      "execution_count": null,
      "outputs": []
    },
    {
      "cell_type": "code",
      "metadata": {
        "id": "ydi4RgfYG1QZ",
        "colab": {
          "base_uri": "https://localhost:8080/"
        },
        "outputId": "023958c1-29b6-499c-9d67-ba24d8099a30"
      },
      "source": [
        "# Print the maximum value between x and y\n",
        "print(max(x,y))"
      ],
      "execution_count": null,
      "outputs": [
        {
          "output_type": "stream",
          "name": "stdout",
          "text": [
            "5.32167\n"
          ]
        }
      ]
    },
    {
      "cell_type": "code",
      "metadata": {
        "id": "rjOFsJf-G1QZ",
        "colab": {
          "base_uri": "https://localhost:8080/"
        },
        "outputId": "723de1b8-59ce-4e2b-db56-90c3dc9906a6"
      },
      "source": [
        "# Print the minimum value between x and y\n",
        "print(min(x,y))"
      ],
      "execution_count": null,
      "outputs": [
        {
          "output_type": "stream",
          "name": "stdout",
          "text": [
            "2\n"
          ]
        }
      ]
    },
    {
      "cell_type": "code",
      "metadata": {
        "id": "CMKAET_bG1Qa",
        "colab": {
          "base_uri": "https://localhost:8080/"
        },
        "outputId": "16f8f4ac-9c83-418d-92ec-a34d24786135"
      },
      "source": [
        "# Print square and cube of x and store in a and b variable\n",
        "b=a**2\n",
        "b=a**3\n",
        "print(f\"square of a={b}, cube of a={b}\")"
      ],
      "execution_count": null,
      "outputs": [
        {
          "output_type": "stream",
          "name": "stdout",
          "text": [
            "square of a=36520347436056576, cube of a=36520347436056576\n"
          ]
        }
      ]
    },
    {
      "cell_type": "code",
      "metadata": {
        "id": "ygGOPmboG1Qa",
        "colab": {
          "base_uri": "https://localhost:8080/"
        },
        "outputId": "fa6fe889-29f5-4aef-f694-8ff3e53aefca"
      },
      "source": [
        "#print log of x and store it in variable c\n",
        "c= math.log(y)\n",
        "print(c)"
      ],
      "execution_count": null,
      "outputs": [
        {
          "output_type": "stream",
          "name": "stdout",
          "text": [
            "1.6717871638686244\n"
          ]
        }
      ]
    },
    {
      "cell_type": "code",
      "metadata": {
        "id": "dVrSvdxTX5Kn"
      },
      "source": [
        ""
      ],
      "execution_count": null,
      "outputs": []
    },
    {
      "cell_type": "markdown",
      "metadata": {
        "id": "Z77y_T4RX3W4"
      },
      "source": [
        ""
      ]
    },
    {
      "cell_type": "markdown",
      "metadata": {
        "id": "GFGGSB5EX3I5"
      },
      "source": [
        ""
      ]
    },
    {
      "cell_type": "code",
      "metadata": {
        "id": "31nuoYKfG1Qb",
        "colab": {
          "base_uri": "https://localhost:8080/"
        },
        "outputId": "29b7bfd6-c0d2-43f8-ce3e-8731d02ef0ac"
      },
      "source": [
        "#print minimum value between x,y,a, b and c\n",
        "print(min(x,y,a,b,c))"
      ],
      "execution_count": null,
      "outputs": [
        {
          "output_type": "stream",
          "name": "stdout",
          "text": [
            "1.6717871638686244\n"
          ]
        }
      ]
    },
    {
      "cell_type": "code",
      "metadata": {
        "id": "3ILdKeqfG1Qb",
        "colab": {
          "base_uri": "https://localhost:8080/"
        },
        "outputId": "8aa72917-d3dd-4fab-d403-892922954434"
      },
      "source": [
        "#print maximum value between x,y,a, b and c\n",
        "print(max(x,y,a,b,c))"
      ],
      "execution_count": null,
      "outputs": [
        {
          "output_type": "stream",
          "name": "stdout",
          "text": [
            "36520347436056576\n"
          ]
        }
      ]
    },
    {
      "cell_type": "code",
      "metadata": {
        "id": "_FnKtROGG1Qb",
        "colab": {
          "base_uri": "https://localhost:8080/",
          "height": 129
        },
        "outputId": "cba04de7-1652-4314-c622-1f304b1d35e2"
      },
      "source": [
        "#print the largest integer that is smaller than or equal to c. ie.round d\n",
        "maximum=max(a,b,c,x,y and > =c)\n",
        "print(maximum)"
      ],
      "execution_count": null,
      "outputs": [
        {
          "output_type": "error",
          "ename": "SyntaxError",
          "evalue": "ignored",
          "traceback": [
            "\u001b[0;36m  File \u001b[0;32m\"<ipython-input-35-175d0e02180c>\"\u001b[0;36m, line \u001b[0;32m2\u001b[0m\n\u001b[0;31m    maximum=max(a,b,c,x,y and > =c)\u001b[0m\n\u001b[0m                              ^\u001b[0m\n\u001b[0;31mSyntaxError\u001b[0m\u001b[0;31m:\u001b[0m invalid syntax\n"
          ]
        }
      ]
    },
    {
      "cell_type": "code",
      "metadata": {
        "id": "DOyxP7skG1Qc",
        "outputId": "55df5a75-d9f7-45e4-9317-7e45700948ed"
      },
      "source": [
        "#print the smallest integer that is greater than or equal to c ie. round up\n",
        "="
      ],
      "execution_count": null,
      "outputs": [
        {
          "name": "stdout",
          "output_type": "stream",
          "text": [
            "1\n"
          ]
        }
      ]
    },
    {
      "cell_type": "markdown",
      "metadata": {
        "id": "7Fo0F8gfG1Qc"
      },
      "source": [
        "## Logical operations\n",
        "\n",
        "You must be aware of some logical operations you did in college, like 'and', 'or', 'not' etc. These operations becomes even more easy to implement when you have friend like python.\n",
        "\n",
        "Reference:- https://youtu.be/9w992l9TFIs\n",
        "\n",
        "<p style='text-align: right;'> 1 + 1 + 1 + 6 = 9 points </p>\n"
      ]
    },
    {
      "cell_type": "code",
      "metadata": {
        "id": "owoROOr7G1Qc",
        "colab": {
          "base_uri": "https://localhost:8080/"
        },
        "outputId": "70b400c0-c776-40f0-9829-43eb00f37500"
      },
      "source": [
        "# declare two variables, a = True, b = False\n",
        "a = True\n",
        "b = False\n",
        "print(a)\n",
        "print(b)"
      ],
      "execution_count": null,
      "outputs": [
        {
          "output_type": "stream",
          "name": "stdout",
          "text": [
            "True\n",
            "False\n"
          ]
        }
      ]
    },
    {
      "cell_type": "code",
      "metadata": {
        "id": "rB5dAq9YG1Qd",
        "colab": {
          "base_uri": "https://localhost:8080/"
        },
        "outputId": "01e9efed-a2da-41ce-d76f-739670970182"
      },
      "source": [
        "# print type of a and type of b\n",
        "print(type(a))\n",
        "print(type(b))"
      ],
      "execution_count": null,
      "outputs": [
        {
          "output_type": "stream",
          "name": "stdout",
          "text": [
            "<class 'bool'>\n",
            "<class 'bool'>\n"
          ]
        }
      ]
    },
    {
      "cell_type": "markdown",
      "metadata": {
        "id": "6mls0RIrG1Qd"
      },
      "source": [
        "A fun fact for you !\n",
        "The Python Boolean type is one of Python's built-in data types. It's used to represent the truth value of an expression"
      ]
    },
    {
      "cell_type": "code",
      "metadata": {
        "id": "-b-_9LeuG1Qd",
        "colab": {
          "base_uri": "https://localhost:8080/"
        },
        "outputId": "5ee87c7c-cf23-455b-8012-8ce2d8aa3f86"
      },
      "source": [
        "# print int(a) and int(b)\n",
        "print(int(a))\n",
        "print(int(b))"
      ],
      "execution_count": null,
      "outputs": [
        {
          "output_type": "stream",
          "name": "stdout",
          "text": [
            "1\n",
            "0\n"
          ]
        }
      ]
    },
    {
      "cell_type": "markdown",
      "metadata": {
        "id": "eQ9FALVNG1Qe"
      },
      "source": [
        "We are sure you must have seen that, values for 'True' is 1 and for 'False' is 0."
      ]
    },
    {
      "cell_type": "code",
      "metadata": {
        "id": "5kPIFL9TG1Qe",
        "colab": {
          "base_uri": "https://localhost:8080/",
          "height": 129
        },
        "outputId": "c78e7169-42f2-4fd0-9e77-a2f9ced0a562"
      },
      "source": [
        "# Find and print the values of not a, not b, a and b, a or b, a and not b\n",
        "print()"
      ],
      "execution_count": null,
      "outputs": [
        {
          "output_type": "error",
          "ename": "SyntaxError",
          "evalue": "ignored",
          "traceback": [
            "\u001b[0;36m  File \u001b[0;32m\"<ipython-input-41-ff80ce9c4e9b>\"\u001b[0;36m, line \u001b[0;32m2\u001b[0m\n\u001b[0;31m    print(!a)\u001b[0m\n\u001b[0m          ^\u001b[0m\n\u001b[0;31mSyntaxError\u001b[0m\u001b[0;31m:\u001b[0m invalid syntax\n"
          ]
        }
      ]
    },
    {
      "cell_type": "markdown",
      "metadata": {
        "id": "yGaKhkf2G1Qe"
      },
      "source": [
        "We hope you tried to undertand the above output! "
      ]
    },
    {
      "cell_type": "markdown",
      "metadata": {
        "id": "-GtsQr8PG1Qe"
      },
      "source": [
        "## List Comprehensions\n",
        "\n",
        "Hey buddy! Python has really amazing thing called list comprehension. List comprehension offers a shorter syntax when you want to create a new list based on the values of an existing list. Cool right? Let's dive into this more by doing it. \n",
        "\n",
        "Reference:- https://youtu.be/17gTGqHG5xQ\n",
        "\n",
        "<p style='text-align: right;'> 10 + 10 + 10= 30 points </p>\n",
        "\n"
      ]
    },
    {
      "cell_type": "code",
      "metadata": {
        "id": "zvhgH4SDG1Qf",
        "colab": {
          "base_uri": "https://localhost:8080/"
        },
        "outputId": "a768a362-8cd5-4f63-fc4d-82743c1b1fdf"
      },
      "source": [
        "# Using list comprehension, create a list containing numbers from 1 to 20. \n",
        "# Hint: You can use range function of python to do this.\n",
        "list_a=[1,2,3,4,5,6,7,8,9,10,11,12,13,14,15,16,17,18,19,20]\n",
        "print(list_a)"
      ],
      "execution_count": null,
      "outputs": [
        {
          "output_type": "stream",
          "name": "stdout",
          "text": [
            "[1, 2, 3, 4, 5, 6, 7, 8, 9, 10, 11, 12, 13, 14, 15, 16, 17, 18, 19, 20]\n"
          ]
        }
      ]
    },
    {
      "cell_type": "code",
      "metadata": {
        "id": "9M1UyxqpG1Qf",
        "colab": {
          "base_uri": "https://localhost:8080/"
        },
        "outputId": "9f0e59ed-90c8-4edd-8a14-5308d67d688e"
      },
      "source": [
        "# Using list comprehension, create a list containing numbers from 1 to 20 that are even\n",
        "even_num=[x for x in range(21) if x%2==0]\n",
        "print(even_num)\n"
      ],
      "execution_count": null,
      "outputs": [
        {
          "output_type": "stream",
          "name": "stdout",
          "text": [
            "[0, 2, 4, 6, 8, 10, 12, 14, 16, 18, 20]\n"
          ]
        }
      ]
    },
    {
      "cell_type": "markdown",
      "metadata": {
        "id": "4HUn0qjyG1Qf"
      },
      "source": [
        "Create a list of all the fruits you like. Using list comprehension, create another list which contains the total number of charachters for each corresponding fruits.\n",
        "- Eg. fruits = [‘apple’,’kiwi’,’orange’], then output would be - [5,4,6]\n"
      ]
    },
    {
      "cell_type": "code",
      "metadata": {
        "id": "FTWmo83LG1Qh",
        "colab": {
          "base_uri": "https://localhost:8080/"
        },
        "outputId": "5296d790-5261-4f06-a342-de807e7a8a25"
      },
      "source": [
        "fruits = [\"cherry\",\"avacado\",\"dragon fruit\"]\n",
        "for len_fruits in fruits:\n",
        "  print(len(len_fruits))\n",
        "\n",
        "print(fruits)\n",
        "print(len_fruits)"
      ],
      "execution_count": null,
      "outputs": [
        {
          "output_type": "stream",
          "name": "stdout",
          "text": [
            "6\n",
            "7\n",
            "12\n",
            "['cherry', 'avacado', 'dragon fruit']\n",
            "dragon fruit\n"
          ]
        }
      ]
    },
    {
      "cell_type": "markdown",
      "metadata": {
        "id": "PSXc_pF7G1Qi"
      },
      "source": [
        "The above output is shown if fruits = ['apple','kiwi,'orange'], it can vary for different values of fruits\n",
        "\n",
        "Amazing right?\n"
      ]
    },
    {
      "cell_type": "markdown",
      "metadata": {
        "id": "F5AS9rYzG1Qi"
      },
      "source": [
        "## String value and operators\n",
        "\n",
        "<p style='text-align: right;'> 1 + 1 + 1 + 1 + 1 = 5 points </p>\n"
      ]
    },
    {
      "cell_type": "markdown",
      "metadata": {
        "id": "loR6kUdhG1Qi"
      },
      "source": [
        "### Characters in strings\n",
        "\n",
        "\n",
        "Reference:- https://www.programiz.com/python-programming/string\n",
        "\n",
        "Reference:-  https://youtu.be/LnQDWIMaJlA\n"
      ]
    },
    {
      "cell_type": "code",
      "metadata": {
        "id": "vout5VLGG1Qj",
        "colab": {
          "base_uri": "https://localhost:8080/"
        },
        "outputId": "449ee108-5a76-4d4a-8c0f-2487fbeedeba"
      },
      "source": [
        "# declare the variables x = cat and y = dog and print it\n",
        "x =  'cat'\n",
        "y = 'dog'\n",
        "print(x)\n",
        "print(y)"
      ],
      "execution_count": null,
      "outputs": [
        {
          "output_type": "stream",
          "name": "stdout",
          "text": [
            "cat\n",
            "dog\n"
          ]
        }
      ]
    },
    {
      "cell_type": "code",
      "metadata": {
        "id": "16qCEKv6G1Qj",
        "colab": {
          "base_uri": "https://localhost:8080/"
        },
        "outputId": "7482111c-d3d9-41ea-bbf9-cb4228facc96"
      },
      "source": [
        "#Print first character of both x and y. \n",
        "print(x[0])\n",
        "print(y[0])"
      ],
      "execution_count": null,
      "outputs": [
        {
          "output_type": "stream",
          "name": "stdout",
          "text": [
            "c\n",
            "d\n"
          ]
        }
      ]
    },
    {
      "cell_type": "code",
      "metadata": {
        "id": "71EtVjSaG1Qk",
        "colab": {
          "base_uri": "https://localhost:8080/"
        },
        "outputId": "a4c2ac22-cf91-4751-fb36-ba67567c6a30"
      },
      "source": [
        "#Print last character of both x and y.\n",
        "print(x[-1])\n",
        "print(y[-2])"
      ],
      "execution_count": null,
      "outputs": [
        {
          "output_type": "stream",
          "name": "stdout",
          "text": [
            "t\n",
            "o\n"
          ]
        }
      ]
    },
    {
      "cell_type": "code",
      "metadata": {
        "id": "ja4lMiysG1Qk",
        "colab": {
          "base_uri": "https://localhost:8080/"
        },
        "outputId": "69d82118-fe5d-438e-fd1b-914a77558dd1"
      },
      "source": [
        "#Print len of both x and y\n",
        "print(f\"length of x is {len(x)}\")\n",
        "print(f\"length of y is {len(y)}\")"
      ],
      "execution_count": null,
      "outputs": [
        {
          "output_type": "stream",
          "name": "stdout",
          "text": [
            "length of x is 3\n",
            "length of y is 3\n"
          ]
        }
      ]
    },
    {
      "cell_type": "code",
      "metadata": {
        "id": "zbdEaoMjG1Qk",
        "colab": {
          "base_uri": "https://localhost:8080/"
        },
        "outputId": "d47c13a7-6e0e-4297-c817-e7016805622b"
      },
      "source": [
        "#concatenate both x and y and store it in variable z and print z\n",
        "z= x+y\n",
        "print(z)"
      ],
      "execution_count": null,
      "outputs": [
        {
          "output_type": "stream",
          "name": "stdout",
          "text": [
            "catdog\n"
          ]
        }
      ]
    },
    {
      "cell_type": "code",
      "metadata": {
        "id": "TWmdV5xNG1Ql"
      },
      "source": [
        "if x in y:\n",
        "  print(true)\n"
      ],
      "execution_count": null,
      "outputs": []
    },
    {
      "cell_type": "markdown",
      "metadata": {
        "id": "ScXfn5qTG1Ql"
      },
      "source": [
        "### String slicing\n",
        "\n",
        "\n",
        "\n",
        "Hey coder, do you know? Python slicing is about obtaining a sub-string from the given string by slicing it respectively from start to end\n",
        "\n",
        "So be ready to implement it today!\n",
        "<p style='text-align: right;'> 2 points </p>"
      ]
    },
    {
      "cell_type": "code",
      "metadata": {
        "id": "n4hsgx18G1Qm",
        "colab": {
          "base_uri": "https://localhost:8080/"
        },
        "outputId": "23928d69-251a-4095-fb1f-b1c49d27b504"
      },
      "source": [
        "#Create variable a = “pineapple”\n",
        "a = 'pineapple'\n",
        "print(a)"
      ],
      "execution_count": null,
      "outputs": [
        {
          "output_type": "stream",
          "name": "stdout",
          "text": [
            "pineapple\n"
          ]
        }
      ]
    },
    {
      "cell_type": "code",
      "metadata": {
        "id": "KR7o3DbuG1Qn",
        "colab": {
          "base_uri": "https://localhost:8080/"
        },
        "outputId": "1d2612f4-58a7-406f-a49d-a1d14d0d848c"
      },
      "source": [
        "# Using index slicing, print the words ‘pine’ and “apple”.\n",
        "# HINT - a[:]\n",
        "print(a[0:4])\n",
        "print(a[4:])\n"
      ],
      "execution_count": null,
      "outputs": [
        {
          "output_type": "stream",
          "name": "stdout",
          "text": [
            "pine\n",
            "apple\n"
          ]
        }
      ]
    },
    {
      "cell_type": "code",
      "metadata": {
        "id": "4gGgKKwyG1Qn",
        "colab": {
          "base_uri": "https://localhost:8080/"
        },
        "outputId": "dee689ec-e7a1-45f7-9621-30b55e7aac66"
      },
      "source": [
        "#Convert a into upper case\n",
        "up=a.upper()\n",
        "print(up)"
      ],
      "execution_count": null,
      "outputs": [
        {
          "output_type": "stream",
          "name": "stdout",
          "text": [
            "PINEAPPLE\n"
          ]
        }
      ]
    },
    {
      "cell_type": "markdown",
      "metadata": {
        "id": "W2baXz95G1Qn"
      },
      "source": [
        "## Dealing with Sentences\n",
        "\n",
        "<p style='text-align: right;'> 1+1+1+1+1+1 = 6 points </p>\n"
      ]
    },
    {
      "cell_type": "code",
      "metadata": {
        "id": "GmE_UZCAG1Qo",
        "colab": {
          "base_uri": "https://localhost:8080/"
        },
        "outputId": "bcddb08d-670d-4933-e4e8-fa47bcf80d2a"
      },
      "source": [
        "# Declare a sentence of ‘I am flying to London’ and print it\n",
        "a='I am flying to london'\n",
        "print(a)"
      ],
      "execution_count": null,
      "outputs": [
        {
          "output_type": "stream",
          "name": "stdout",
          "text": [
            "I am flying to london\n"
          ]
        }
      ]
    },
    {
      "cell_type": "code",
      "metadata": {
        "id": "4rh13W9eG1Qo",
        "colab": {
          "base_uri": "https://localhost:8080/"
        },
        "outputId": "f2bbce52-da21-46ee-8497-035bf0cd6cdb"
      },
      "source": [
        "#Print length of the senten\n",
        "print(f\"Len of sentence is {len(a)}\")"
      ],
      "execution_count": null,
      "outputs": [
        {
          "output_type": "stream",
          "name": "stdout",
          "text": [
            "Len of sentence is 21\n"
          ]
        }
      ]
    },
    {
      "cell_type": "code",
      "metadata": {
        "id": "0J0jnAK_G1Qo",
        "colab": {
          "base_uri": "https://localhost:8080/"
        },
        "outputId": "561f8d9b-e59a-4e86-f9dc-135924de7407"
      },
      "source": [
        "#Using list indexing, to print the word London\n",
        "print(a[15:])"
      ],
      "execution_count": null,
      "outputs": [
        {
          "output_type": "stream",
          "name": "stdout",
          "text": [
            "london\n"
          ]
        }
      ]
    },
    {
      "cell_type": "code",
      "metadata": {
        "id": "71FWomcPG1Qp",
        "colab": {
          "base_uri": "https://localhost:8080/"
        },
        "outputId": "9e792a26-7bab-4944-8b5e-c0dcf696387e"
      },
      "source": [
        "# Use .split to get list of individual words in the sentence\n",
        "prac_list= a.split(\" \")\n",
        "print(prac_list)"
      ],
      "execution_count": null,
      "outputs": [
        {
          "output_type": "stream",
          "name": "stdout",
          "text": [
            "['I', 'am', 'flying', 'to', 'london']\n"
          ]
        }
      ]
    },
    {
      "cell_type": "code",
      "metadata": {
        "id": "RvuDEFwIG1Qp",
        "colab": {
          "base_uri": "https://localhost:8080/"
        },
        "outputId": "1860b1c0-aac7-4264-acdb-cdbe9d2e176a"
      },
      "source": [
        "# Convert sentence in lower case \n",
        "print(a.lower())"
      ],
      "execution_count": null,
      "outputs": [
        {
          "output_type": "stream",
          "name": "stdout",
          "text": [
            "i am flying to london\n"
          ]
        }
      ]
    },
    {
      "cell_type": "code",
      "metadata": {
        "id": "DZh-ZJPiG1Qp",
        "colab": {
          "base_uri": "https://localhost:8080/"
        },
        "outputId": "6bce3b0e-9588-451d-8407-d5a7631edf22"
      },
      "source": [
        "# Convert sentence in upper case .\n",
        "print(a.upper())"
      ],
      "execution_count": null,
      "outputs": [
        {
          "output_type": "stream",
          "name": "stdout",
          "text": [
            "I AM FLYING TO LONDON\n"
          ]
        }
      ]
    },
    {
      "cell_type": "markdown",
      "metadata": {
        "id": "Cj1muW1vG1Qq"
      },
      "source": [
        "Great job! Slicing is fun."
      ]
    },
    {
      "cell_type": "markdown",
      "metadata": {
        "id": "Sw-r_Vy-G1Qq"
      },
      "source": [
        "## Functions\n",
        "\n",
        "Declare a function named square, which takes an input as x, and returns the square of x.\n",
        "\n",
        "Reference:- https://youtu.be/Rpq9MC67M08\n",
        "\n",
        "<p style='text-align: right;'> 5 + 3 = 8 points </p>\n"
      ]
    },
    {
      "cell_type": "code",
      "metadata": {
        "id": "Prj9BiRHG1Qq"
      },
      "source": [
        "def square(x):\n",
        "     a=x**2\n",
        "     print(a)\n",
        "     return a\n",
        "    "
      ],
      "execution_count": null,
      "outputs": []
    },
    {
      "cell_type": "markdown",
      "metadata": {
        "id": "-oeXpP8RG1Qq"
      },
      "source": [
        "Call the function to find the value of square of 9."
      ]
    },
    {
      "cell_type": "code",
      "metadata": {
        "id": "5cG992nMG1Qr",
        "colab": {
          "base_uri": "https://localhost:8080/"
        },
        "outputId": "48b1f849-90b6-4d74-f813-fb54a5d8d832"
      },
      "source": [
        "# find the square of 9 using the function square you have just created.\n",
        "x=9\n",
        "a=x**2\n",
        "print(f\"Square of 9 is :{a}\")"
      ],
      "execution_count": null,
      "outputs": [
        {
          "output_type": "stream",
          "name": "stdout",
          "text": [
            "Square of 9 is :81\n"
          ]
        }
      ]
    },
    {
      "cell_type": "markdown",
      "metadata": {
        "id": "ORie433SG1Qr"
      },
      "source": [
        "Wohoo! see, defining function was simple"
      ]
    },
    {
      "cell_type": "markdown",
      "metadata": {
        "id": "gVRyJ8S4G1Qr"
      },
      "source": [
        "#### Define another function which checks whether a given is number is odd or even for a given input and it should print whether the  number is odd or even as an output\n",
        "<p style='text-align: right;'> 5 + 3 = 8 points </p>\n"
      ]
    },
    {
      "cell_type": "code",
      "metadata": {
        "id": "JxegVCzOG1Qr"
      },
      "source": [
        "def check_even_odd(x):\n",
        "  if x%2==0:\n",
        "    print(\"Number is even\")\n",
        "  else:\n",
        "    print(\"Number is odd\")\n",
        "      \n"
      ],
      "execution_count": null,
      "outputs": []
    },
    {
      "cell_type": "markdown",
      "metadata": {
        "id": "kLnoQK8WG1Qs"
      },
      "source": [
        "Hey smarty! lets use both the functions together to check whether the square of 3,6 and 21 are odd or even.\n"
      ]
    },
    {
      "cell_type": "code",
      "metadata": {
        "id": "yCUL39DdG1Qs",
        "colab": {
          "base_uri": "https://localhost:8080/"
        },
        "outputId": "e7526a5e-a918-4f23-e049-a432d1f205c7"
      },
      "source": [
        " # your code here\n",
        "check_even_odd(9)\n",
        "check_even_odd(36)\n",
        "check_even_odd(441)"
      ],
      "execution_count": null,
      "outputs": [
        {
          "output_type": "stream",
          "name": "stdout",
          "text": [
            "Number is odd\n",
            "Number is even\n",
            "Number is odd\n"
          ]
        }
      ]
    },
    {
      "cell_type": "markdown",
      "metadata": {
        "id": "HyeQ7omUG1Qs"
      },
      "source": [
        "hey hey! You did a great code. Did you see the benefit of using functions"
      ]
    },
    {
      "cell_type": "markdown",
      "metadata": {
        "id": "7bI5U7IsG1Qs"
      },
      "source": [
        "# Loops and Iterations\n",
        "Reference:- https://youtu.be/6iF8Xb7Z3wQ"
      ]
    },
    {
      "cell_type": "markdown",
      "metadata": {
        "id": "Nnij-DjBG1Qs"
      },
      "source": [
        "## If statement\n",
        "\n",
        "<p style='text-align: right;'> 1 + 2 + 3 = 6 points </p>\n"
      ]
    },
    {
      "cell_type": "code",
      "metadata": {
        "id": "qemBQePHG1Qt",
        "colab": {
          "base_uri": "https://localhost:8080/"
        },
        "outputId": "c57e701b-0741-4151-9b9f-946db3ca5fc4"
      },
      "source": [
        "#Declare a variable x equal to a number of your choice.\n",
        "#your code here\n",
        "x =  4\n",
        "print(x)"
      ],
      "execution_count": null,
      "outputs": [
        {
          "output_type": "stream",
          "name": "stdout",
          "text": [
            "4\n"
          ]
        }
      ]
    },
    {
      "cell_type": "code",
      "metadata": {
        "id": "HSmKbjtuG1Qt",
        "colab": {
          "base_uri": "https://localhost:8080/"
        },
        "outputId": "d7533020-0117-48db-a2e1-09ae0ed8f6b7"
      },
      "source": [
        "#Using an if statement, print whether x is zero, positive or negative.\n",
        "if x<0:\n",
        "  print(\"Negative\")\n",
        "elif x==0:\n",
        "  print(\"zero\")\n",
        "else:\n",
        "  print(\"Positive\")\n"
      ],
      "execution_count": null,
      "outputs": [
        {
          "output_type": "stream",
          "name": "stdout",
          "text": [
            "Positive\n"
          ]
        }
      ]
    },
    {
      "cell_type": "code",
      "metadata": {
        "id": "xMEzbCEwG1Qt",
        "colab": {
          "base_uri": "https://localhost:8080/"
        },
        "outputId": "fc472c31-c3e6-4e4a-f0f0-adbcb5422aac"
      },
      "source": [
        "# Now Define a function, which takes input from the user and prints whether the given input is zero,positive or negative.\n",
        "num_check=int(input(\"Enter the number\"))\n",
        "def check(num_check):\n",
        "  if num_check<0:\n",
        "    print(\"Negative\")\n",
        "  elif num_check==0:\n",
        "    print(\"Zero\")\n",
        "  else:\n",
        "    print(\"Positive\")\n",
        "\n",
        "check(num_check)     "
      ],
      "execution_count": null,
      "outputs": [
        {
          "output_type": "stream",
          "name": "stdout",
          "text": [
            "Enter the number-3\n",
            "Negative\n"
          ]
        }
      ]
    },
    {
      "cell_type": "markdown",
      "metadata": {
        "id": "r0UwB3xsG1Qt"
      },
      "source": [
        "## For loop"
      ]
    },
    {
      "cell_type": "markdown",
      "metadata": {
        "id": "ub8jpSnLG1Qu"
      },
      "source": [
        "<p style='text-align: right;'> 2 points </p>\n"
      ]
    },
    {
      "cell_type": "code",
      "metadata": {
        "id": "txOrLbowG1Qu"
      },
      "source": [
        "#Create a list x, such that it contains the elements - ‘India’, ‘Israel’,’Canada’.\n",
        "x=[\"India\",\"Isreal\",\"canada\"]"
      ],
      "execution_count": null,
      "outputs": []
    },
    {
      "cell_type": "code",
      "metadata": {
        "id": "ppe9k5gwG1Qu",
        "colab": {
          "base_uri": "https://localhost:8080/"
        },
        "outputId": "58d2aec9-0943-4b14-e46a-560574e8b0fe"
      },
      "source": [
        "#Using For loop, iterate over the list and print the elements.\n",
        "for values in x:\n",
        "  print(values)"
      ],
      "execution_count": null,
      "outputs": [
        {
          "output_type": "stream",
          "name": "stdout",
          "text": [
            "India\n",
            "Isreal\n",
            "canada\n"
          ]
        }
      ]
    },
    {
      "cell_type": "markdown",
      "metadata": {
        "id": "I2NwSq_QG1Qu"
      },
      "source": [
        "<p style='text-align: right;'> 2 points </p>\n"
      ]
    },
    {
      "cell_type": "code",
      "metadata": {
        "id": "ODZRjx_TG1Qv",
        "colab": {
          "base_uri": "https://localhost:8080/"
        },
        "outputId": "f1f75e43-1895-45d8-873d-25903919e0b7"
      },
      "source": [
        "# Using For loop, print the table of 2.\n",
        "for i in range(1,11):\n",
        "  print(2 *i)"
      ],
      "execution_count": null,
      "outputs": [
        {
          "output_type": "stream",
          "name": "stdout",
          "text": [
            "2\n",
            "4\n",
            "6\n",
            "8\n",
            "10\n",
            "12\n",
            "14\n",
            "16\n",
            "18\n",
            "20\n"
          ]
        }
      ]
    },
    {
      "cell_type": "markdown",
      "metadata": {
        "id": "2S9Cjg1DG1Qv"
      },
      "source": [
        "For a given list, x = [21, ‘hello,’cream’, 20,19,’village’], using for loop to iterate over the items and using - if statement print the items that are of type int"
      ]
    },
    {
      "cell_type": "code",
      "metadata": {
        "id": "bzfVvzP_G1Qv"
      },
      "source": [
        "#code here\n",
        "x=[21,\"hello\",\"cream\",20,19]\n",
        "for values in x:\n",
        "  type(values)\n",
        "  if values== int:\n",
        "   print(values)\n"
      ],
      "execution_count": null,
      "outputs": []
    },
    {
      "cell_type": "markdown",
      "metadata": {
        "id": "5aFerH0TG1Qv"
      },
      "source": [
        "Using For loop, lets create a pattern. "
      ]
    },
    {
      "cell_type": "markdown",
      "metadata": {
        "id": "tlAwK4TeG1Qw"
      },
      "source": [
        "<p style='text-align: right;'> 10 points </p>\n"
      ]
    },
    {
      "cell_type": "markdown",
      "metadata": {
        "id": "RxV0kP19z7L-"
      },
      "source": [
        ""
      ]
    },
    {
      "cell_type": "code",
      "metadata": {
        "id": "8GnAfMuhG1Qw",
        "colab": {
          "base_uri": "https://localhost:8080/"
        },
        "outputId": "999a5fca-8831-457c-ee40-fbd8b15a49fc"
      },
      "source": [
        "# print the following pattern\n",
        "def pypart(n):\n",
        "    myList = []\n",
        "    for i in range(1,n+1):\n",
        "        myList.append(\"*\"*i)\n",
        "    print(\"\\n\".join(myList))\n",
        " \n",
        "# Driver Code\n",
        "n = 5\n",
        "pypart(n)"
      ],
      "execution_count": null,
      "outputs": [
        {
          "output_type": "stream",
          "name": "stdout",
          "text": [
            "*\n",
            "**\n",
            "***\n",
            "****\n",
            "*****\n"
          ]
        }
      ]
    },
    {
      "cell_type": "markdown",
      "metadata": {
        "id": "X6fvnnx1G1Qw"
      },
      "source": [
        "## While loop"
      ]
    },
    {
      "cell_type": "markdown",
      "metadata": {
        "id": "VZvjr09hG1Qw"
      },
      "source": [
        "- Using while loop make a function that prints all the values between 1 to n. \n",
        "\n",
        "1.   List item\n",
        "2.   List item\n",
        "\n"
      ]
    },
    {
      "cell_type": "markdown",
      "metadata": {
        "id": "BWSoSdjqG1Qw"
      },
      "source": [
        "<p style='text-align: right;'> 10 points </p>\n"
      ]
    },
    {
      "cell_type": "code",
      "metadata": {
        "id": "2DyEDrf2G1Qx",
        "colab": {
          "base_uri": "https://localhost:8080/"
        },
        "outputId": "7ab66076-df58-4009-a16a-9d3dad601100"
      },
      "source": [
        "def counter(n):\n",
        "  i = 1\n",
        "  print(\"The List of Natural Numbers from 1 to {0} are\".format(n)) \n",
        "  while ( i <= n):\n",
        "    print (i, end = '  ')\n",
        "    i = i + 1\n",
        "\n",
        "counter(10)  \n",
        " \n",
        "    "
      ],
      "execution_count": 138,
      "outputs": [
        {
          "output_type": "stream",
          "name": "stdout",
          "text": [
            "The List of Natural Numbers from 1 to 10 are\n",
            "1  2  3  4  5  6  7  8  9  10  "
          ]
        }
      ]
    },
    {
      "cell_type": "code",
      "metadata": {
        "id": "kOI_hzV1G1Qx",
        "outputId": "5ab6640f-1b5c-4099-ede5-6dc4670b170d"
      },
      "source": [
        "counter(10) #this should print numbers from 1 to 10"
      ],
      "execution_count": null,
      "outputs": [
        {
          "name": "stdout",
          "output_type": "stream",
          "text": [
            "1\n",
            "2\n",
            "3\n",
            "4\n",
            "5\n",
            "6\n",
            "7\n",
            "8\n",
            "9\n"
          ]
        }
      ]
    },
    {
      "cell_type": "markdown",
      "metadata": {
        "id": "3TxMIS17G1Qx"
      },
      "source": [
        "### Write the code for the following, what is the output obtained?\n",
        "- Set a variable flag = True, num = 5\n",
        "- Run a while loop till flag = True\n",
        "- Inside the while loop - \n",
        "    - Increment the value of num by 5\n",
        "    - If value of num is greater then 50, set flag to be False"
      ]
    },
    {
      "cell_type": "code",
      "metadata": {
        "id": "Hq_AdXoQG1Qy",
        "colab": {
          "base_uri": "https://localhost:8080/"
        },
        "outputId": "772f9932-a244-49bc-c79f-579fd5070afa"
      },
      "source": [
        "# your code here\n",
        "flag= True\n",
        "num=5\n",
        "while (flag==True):\n",
        "  num=num+5\n",
        "  print(num)\n",
        "  if(num>=50):\n",
        "    flag=False\n",
        "print(flag)    \n",
        "\n"
      ],
      "execution_count": 141,
      "outputs": [
        {
          "output_type": "stream",
          "name": "stdout",
          "text": [
            "10\n",
            "15\n",
            "20\n",
            "25\n",
            "30\n",
            "35\n",
            "40\n",
            "45\n",
            "50\n",
            "False\n"
          ]
        }
      ]
    },
    {
      "cell_type": "markdown",
      "metadata": {
        "id": "wJY9JSbRG1Qy"
      },
      "source": [
        "Awsesome! Great job so far. Hope you fell in love with python now."
      ]
    },
    {
      "cell_type": "markdown",
      "metadata": {
        "id": "L4gQSN-OG1Qy"
      },
      "source": [
        "----------------------------------------------------------------------"
      ]
    },
    {
      "cell_type": "markdown",
      "metadata": {
        "id": "s01lnLZcMR4h"
      },
      "source": [
        ""
      ]
    },
    {
      "cell_type": "code",
      "metadata": {
        "id": "T2O0hIJPMUCC"
      },
      "source": [
        ""
      ],
      "execution_count": null,
      "outputs": []
    },
    {
      "cell_type": "code",
      "metadata": {
        "id": "B7I6mUKOMURd"
      },
      "source": [
        ""
      ],
      "execution_count": null,
      "outputs": []
    },
    {
      "cell_type": "markdown",
      "metadata": {
        "id": "GOgr7d1LG1Qz"
      },
      "source": [
        "# Smile, you completed the first milestone :)!! "
      ]
    },
    {
      "cell_type": "markdown",
      "metadata": {
        "id": "PlHPMGl2G1Qz"
      },
      "source": [
        "# Its Feedback Time!\n",
        "\n",
        "We hope you’ve enjoyed this course so far. We’re committed to help you use \"AI for All\" course to its full potential, so that you have a great learning experience. And that’s why we need your help in form of a feedback here.\n",
        "\n",
        "**Please fill this feedback form**\n",
        " https://zfrmz.in/MtRG5oWXBdesm6rmSM7N\n",
        " \n",
        "-------------------------------------\n",
        " "
      ]
    }
  ]
}