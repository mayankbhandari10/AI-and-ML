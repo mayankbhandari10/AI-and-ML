{
  "nbformat": 4,
  "nbformat_minor": 0,
  "metadata": {
    "colab": {
      "name": "Chapter6_Dictionaries_Basics.ipynb",
      "provenance": [],
      "authorship_tag": "ABX9TyNab1olAel0b5jZQQlvgMOk",
      "include_colab_link": true
    },
    "kernelspec": {
      "name": "python3",
      "display_name": "Python 3"
    },
    "language_info": {
      "name": "python"
    }
  },
  "cells": [
    {
      "cell_type": "markdown",
      "metadata": {
        "id": "view-in-github",
        "colab_type": "text"
      },
      "source": [
        "<a href=\"https://colab.research.google.com/github/mayankbhandari10/Python-Crash-Course/blob/main/Chapter6_Dictionaries_Basics.ipynb\" target=\"_parent\"><img src=\"https://colab.research.google.com/assets/colab-badge.svg\" alt=\"Open In Colab\"/></a>"
      ]
    },
    {
      "cell_type": "code",
      "metadata": {
        "colab": {
          "base_uri": "https://localhost:8080/"
        },
        "id": "r6u88zp-t1DH",
        "outputId": "b20832d4-c3dd-4e2b-ca22-6664678885b9"
      },
      "source": [
        "#Dictionaries can be created inside list, list can be created inside dictionaries and even dictionaries can be created inside dictionaries\n",
        "\n",
        "#Note : Dictionaries maintain the execution order.\n",
        "\n",
        "#Accessing values in a dictinary\n",
        "alien_0={'color': 'green','points': 5}\n",
        "print(f\"The color associated is {alien_0['color']}\")\n",
        "\n",
        "#Assigning the points value in new_points.\n",
        "new_points=alien_0['points']\n",
        "print(f\"Hello you have earned the {new_points} Cool !!!.\")\n",
        "\n",
        "#Adding new values in Dictionaries\n",
        "\n",
        "print(\"**************** Adding the new Key values **************\\n\")\n",
        "\n",
        "alien_0['try']=0\n",
        "alien_0['gun']='pisstol'\n",
        "print(alien_0)\n",
        "\n",
        "\n",
        "#Creating a empty dictionary\n",
        "\n",
        "print(\"**************** Creating the Empty Dictionary ****************\\n\")\n",
        "\n",
        "new_alien= {}\n",
        "\n",
        "new_alien['color']= 'Pink'\n",
        "new_alien['points']='5'\n",
        "print(f\"The alien color is {new_alien['color']}\")\n",
        "\n",
        "\n",
        "#Creating a empty dictionary\n",
        "print(\"****************  Modify the Existing Dictionary ****************\\n\")\n",
        "\n",
        "new_alien['color']= 'Yellow'\n",
        "print(f\"The alien color is now {new_alien['color']}\")\n",
        "\n",
        "\n",
        "#Removing Key-value pair use del, it will remove the key value pair parmanently\n",
        "\n",
        "demo_name={'name': 'Mayank', 'age': 27,'job':'Payu Payment', 'future': 'Devops/data engineer'}\n",
        "print(f\"Before deleting {demo_name}\")\n",
        "\n",
        "print(\"Remove the key value \")\n",
        "\n",
        "del demo_name['name']\n",
        "print(f\"After deleting {demo_name}\")\n",
        "\n",
        "#Try to get the value of a key which does not exist\n",
        "#print(demo_name['name'])\n",
        "\n",
        "\n",
        "#Use get() method to retreive the values from the dictionary. It takes two arguments, first one is key and second one optional value.\n",
        "print(\"*********** Implementation of get() Method ************** \")\n",
        "\n",
        "\n",
        "print_value= demo_name.get('name','No key')\n",
        "print(print_value)\n"
      ],
      "execution_count": null,
      "outputs": [
        {
          "output_type": "stream",
          "name": "stdout",
          "text": [
            "The color associated is green\n",
            "Hello you have earned the 5 Cool !!!.\n",
            "**************** Adding the new Key values **************\n",
            "\n",
            "{'color': 'green', 'points': 5, 'try': 0, 'gun': 'pisstol'}\n",
            "**************** Creating the Empty Dictionary ****************\n",
            "\n",
            "The alien color is Pink\n",
            "****************  Modify the Existing Dictionary ****************\n",
            "\n",
            "The alien color is now Yellow\n",
            "Before deleting {'name': 'Mayank', 'age': 27, 'job': 'Payu Payment', 'future': 'Devops/data engineer'}\n",
            "Remove the key value \n",
            "After deleting {'age': 27, 'job': 'Payu Payment', 'future': 'Devops/data engineer'}\n",
            "*********** Implementation of get() Method ************** \n",
            "None\n"
          ]
        }
      ]
    },
    {
      "cell_type": "code",
      "metadata": {
        "colab": {
          "base_uri": "https://localhost:8080/"
        },
        "id": "3fqDlH8KUhTw",
        "outputId": "7d911198-104c-489b-a735-cb4c8654bdd5"
      },
      "source": [
        "# Dictionary to store the information of a person\n",
        "#items() returns the key value for the dict.\n",
        "person={\n",
        "    'first_name':'Mayank',\n",
        "    'Last_name':'Bhandari',\n",
        "    'age': 26,\n",
        "    'city':'Haridwar'\n",
        "    }\n",
        "for k,v in person.items():\n",
        "  print(f\"\\n Key is : {k}\")\n",
        "  print(f\"\\n Value is : {v}\")\n",
        "\n",
        "#print(f\"The person info is {person}\")\n",
        "\n",
        "    \n"
      ],
      "execution_count": null,
      "outputs": [
        {
          "output_type": "stream",
          "name": "stdout",
          "text": [
            "\n",
            " Key is : first_name\n",
            "\n",
            " Value is : Mayank\n",
            "\n",
            " Key is : Last_name\n",
            "\n",
            " Value is : Bhandari\n",
            "\n",
            " Key is : age\n",
            "\n",
            " Value is : 26\n",
            "\n",
            " Key is : city\n",
            "\n",
            " Value is : Haridwar\n"
          ]
        }
      ]
    },
    {
      "cell_type": "code",
      "metadata": {
        "colab": {
          "base_uri": "https://localhost:8080/"
        },
        "id": "GowIN4-eJ3vO",
        "outputId": "fa18f5fc-a0e0-43da-ee21-fcde314ad3e6"
      },
      "source": [
        "# For loop in dictionary\n",
        "\n",
        "favorite_lang={\n",
        "    'Mayank': 'python',\n",
        "    'alok':'Java',\n",
        "    'abhay':'Nothing',\n",
        "}\n",
        "\n",
        "for name,lang in favorite_lang.items():\n",
        "  print(f\"{name.title()} loves {lang.title()}\")"
      ],
      "execution_count": null,
      "outputs": [
        {
          "output_type": "stream",
          "name": "stdout",
          "text": [
            "Mayank loves Python\n",
            "Alok loves Java\n",
            "Abhay loves Nothing\n"
          ]
        }
      ]
    },
    {
      "cell_type": "code",
      "metadata": {
        "colab": {
          "base_uri": "https://localhost:8080/"
        },
        "id": "VxTUf34xNNHt",
        "outputId": "5ad6eb0f-2c2b-45a1-ff2d-8c97005c9740"
      },
      "source": [
        "#Using the keys() function in dictionary when we want to use only keys not values.\n",
        "#we can also use for loop like this \n",
        "#for name in fafavorite_lang:\n",
        "favorite_lang={\n",
        "    'Mayank': 'python',\n",
        "    'alok':'Java',\n",
        "    'abhay':'Nothing',\n",
        "    }\n",
        "for name in favorite_lang.keys():\n",
        "  print(f\"dict. contains the {name.title()} as a student\")"
      ],
      "execution_count": null,
      "outputs": [
        {
          "output_type": "stream",
          "name": "stdout",
          "text": [
            "dict. contains the Mayank as a student\n",
            "dict. contains the Alok as a student\n",
            "dict. contains the Abhay as a student\n"
          ]
        }
      ]
    },
    {
      "cell_type": "code",
      "metadata": {
        "colab": {
          "base_uri": "https://localhost:8080/"
        },
        "id": "d2lt53CfOYnR",
        "outputId": "1c6731bd-014b-468f-8b9d-30a8135c721c"
      },
      "source": [
        "#Create a list of friends and check name is exist in dictuinary\n",
        "\n",
        "friends_list=['Rishu','alok','Mayank']\n",
        "for name in favorite_lang.keys():\n",
        "  print(name.title())\n",
        "\n",
        "  if name in friends_list:\n",
        "    lang=favorite_lang[name].title()\n",
        "    print(f\"\\t{name.title()} , loves coding in {lang} \")\n",
        "  "
      ],
      "execution_count": null,
      "outputs": [
        {
          "output_type": "stream",
          "name": "stdout",
          "text": [
            "Mayank\n",
            "\tMayank , loves coding in Python \n",
            "Alok\n",
            "\tAlok , loves coding in Java \n",
            "Abhay\n"
          ]
        }
      ]
    },
    {
      "cell_type": "code",
      "metadata": {
        "colab": {
          "base_uri": "https://localhost:8080/"
        },
        "id": "scAYz6MnWBTf",
        "outputId": "63f5a511-fa0a-4666-8c37-43c1a23efa95"
      },
      "source": [
        "#Looping in dict. key's in a sorted order used sorted function\n",
        "favorite_lang={\n",
        "    'mayank': 'python',\n",
        "    'alok':'Java',\n",
        "    'abhay':'Nothing',\n",
        "    }\n",
        "for name in sorted(favorite_lang_1.keys()):\n",
        "  print(f\"dict. contains the {name.title()} as a student\")"
      ],
      "execution_count": null,
      "outputs": [
        {
          "output_type": "stream",
          "name": "stdout",
          "text": [
            "dict. contains the Abhay as a student\n",
            "dict. contains the Alok as a student\n",
            "dict. contains the Mayank as a student\n"
          ]
        }
      ]
    },
    {
      "cell_type": "code",
      "metadata": {
        "colab": {
          "base_uri": "https://localhost:8080/"
        },
        "id": "ag-jygvwVOW9",
        "outputId": "62a0c7dc-4c9e-434e-ce8b-90de4ad48972"
      },
      "source": [
        "#Looping through the values use values() function with using the keys, this approch will not work for the duplicates values.\n",
        "\n",
        "favorite_lang={\n",
        "    'mayank': 'python',\n",
        "    'alok':'Java',\n",
        "    'abhay':'Nothing',\n",
        "    }\n",
        "print(\"The languages in the dictionary are :\\n\")\n",
        "for lang in favorite_lang.values():\n",
        "  print(lang)  "
      ],
      "execution_count": null,
      "outputs": [
        {
          "output_type": "stream",
          "name": "stdout",
          "text": [
            "The languages in the dictionary are :\n",
            "\n",
            "python\n",
            "Java\n",
            "Nothing\n"
          ]
        }
      ]
    },
    {
      "cell_type": "code",
      "metadata": {
        "colab": {
          "base_uri": "https://localhost:8080/"
        },
        "id": "N_Exr8XeWINK",
        "outputId": "a8d8decb-831c-44f5-d0d2-1c479d4f4106"
      },
      "source": [
        "#Looping through the values use values() function with using the keys,for the duplicates values.\n",
        "\n",
        "#Need to use set() for managing the duplicate values, it will remove the duplicates values while printing\n",
        "\n",
        "\n",
        "favorite_lang={\n",
        "    'mayank': 'python',\n",
        "    'alok':'Java',\n",
        "    'abhay':'Nothing',\n",
        "    'rishu': 'python',\n",
        "    'shubham':'Nothing',\n",
        "    'jating':'Nothing'\n",
        "    }\n",
        "print(\"The languages in the dictionary are :\\n\")\n",
        "for lang in set(favorite_lang.values()):\n",
        "  print(lang)  \n"
      ],
      "execution_count": null,
      "outputs": [
        {
          "output_type": "stream",
          "name": "stdout",
          "text": [
            "The languages in the dictionary are :\n",
            "\n",
            "Java\n",
            "Nothing\n",
            "python\n"
          ]
        }
      ]
    },
    {
      "cell_type": "code",
      "metadata": {
        "colab": {
          "base_uri": "https://localhost:8080/"
        },
        "id": "TtCw2jm2XW5D",
        "outputId": "431921b5-e78c-4b2d-fa0d-c8a95b05ce10"
      },
      "source": [
        "# You can create the sets directly by braces and seprating with commas\n",
        "# when there is braces and no key-value pair you are working sets, unlike list and divt. set do not return the  items in any specific order.\n",
        "languages={'devops','C','coding','java','java'}\n",
        "print(languages)"
      ],
      "execution_count": null,
      "outputs": [
        {
          "output_type": "stream",
          "name": "stdout",
          "text": [
            "{'devops', 'C', 'java', 'coding'}\n"
          ]
        }
      ]
    },
    {
      "cell_type": "code",
      "metadata": {
        "colab": {
          "base_uri": "https://localhost:8080/"
        },
        "id": "1f-MOdLcZYZj",
        "outputId": "f0739716-e475-4bb0-b766-85ad26087ccf"
      },
      "source": [
        "#Problem \n",
        "\n",
        "language_poll=['alok','rishu','jatin']\n",
        "fav_lang_poll={\n",
        "    'rishu': 'coder',\n",
        "    'drishti': 'analyst',\n",
        "    'jatin':'QA',\n",
        "    'mayank':'devops',\n",
        "    'pooja':'Dr'\n",
        "}\n",
        "for name in fav_lang_poll.keys():\n",
        "  print(f\"{name.title()}\")\n",
        "\n",
        "  if name in language_poll:\n",
        "    lang= fav_lang_poll[name].title()\n",
        "    print(f\"\\t{name.title()}, I see you love {lang}\")\n",
        "  else:\n",
        "        print(f\"\\t{name.title()}, I dont' want to see you love {lang}\")\n",
        "\n",
        "\n",
        "\n"
      ],
      "execution_count": 13,
      "outputs": [
        {
          "output_type": "stream",
          "name": "stdout",
          "text": [
            "Rishu\n",
            "\tRishu, I see you love Coder\n",
            "Drishti\n",
            "\tDrishti, I dont' want to see you love Coder\n",
            "Jatin\n",
            "\tJatin, I see you love Qa\n",
            "Mayank\n",
            "\tMayank, I dont' want to see you love Qa\n",
            "Pooja\n",
            "\tPooja, I dont' want to see you love Qa\n"
          ]
        }
      ]
    }
  ]
}