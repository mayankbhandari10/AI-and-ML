{
  "nbformat": 4,
  "nbformat_minor": 0,
  "metadata": {
    "colab": {
      "name": "Chapter7_Dictionaries_Advance",
      "provenance": [],
      "collapsed_sections": [],
      "authorship_tag": "ABX9TyMkuhgaZqhX3STrKFdQ3zSA",
      "include_colab_link": true
    },
    "kernelspec": {
      "name": "python3",
      "display_name": "Python 3"
    },
    "language_info": {
      "name": "python"
    }
  },
  "cells": [
    {
      "cell_type": "markdown",
      "metadata": {
        "id": "view-in-github",
        "colab_type": "text"
      },
      "source": [
        "<a href=\"https://colab.research.google.com/github/mayankbhandari10/Python-Crash-Course/blob/main/Chapter7_Dictionaries_Advance.ipynb\" target=\"_parent\"><img src=\"https://colab.research.google.com/assets/colab-badge.svg\" alt=\"Open In Colab\"/></a>"
      ]
    },
    {
      "cell_type": "code",
      "metadata": {
        "colab": {
          "base_uri": "https://localhost:8080/"
        },
        "id": "c80ojp7YezIi",
        "outputId": "cb8a4ec6-b44d-440c-e6cd-ee00b60a5fc9"
      },
      "source": [
        "#Nesting:\n",
        "''' sometimes you want to store multiple dictionaries in a list or in a list or a list inside the values of dictionary. This is called nesting. You can use list inside a list\n",
        ", list inside the dictionary or a dictionary inside the dictionary '''\n",
        "\n",
        "\n",
        "# Below Examples are the A list of Dictionaries.\n",
        "\n",
        "# create a list of alien in which each aliens is a dictionary\n",
        "\n",
        "#below is the aliens dictionary\n",
        "alien_0={'color': 'green','points':25}\n",
        "alien_1={'color': 'green','points':25}\n",
        "alien_2={'color': 'green','points':15}\n",
        "\n",
        "#below is the alien list\n",
        "aliens=[alien_0,alien_1,alien_2]\n",
        "for alein in aliens:\n",
        "  print(alien)\n",
        "\n"
      ],
      "execution_count": null,
      "outputs": [
        {
          "output_type": "stream",
          "name": "stdout",
          "text": [
            "[{'color': 'green', 'points': 25}, {'color': 'green', 'points': 25}, {'color': 'green', 'points': 15}]\n",
            "[{'color': 'green', 'points': 25}, {'color': 'green', 'points': 25}, {'color': 'green', 'points': 15}]\n",
            "[{'color': 'green', 'points': 25}, {'color': 'green', 'points': 25}, {'color': 'green', 'points': 15}]\n"
          ]
        }
      ]
    },
    {
      "cell_type": "code",
      "metadata": {
        "colab": {
          "base_uri": "https://localhost:8080/"
        },
        "id": "iX_A20rBo9tx",
        "outputId": "c7873372-178e-4eeb-a13f-227b190f1cd4"
      },
      "source": [
        "#problem: Create a empty list of aliens and add 30 aleins in a list using range function\n",
        "\n",
        "aliens=[]\n",
        "\n",
        "#make 30 gree aliens\n",
        "for alien_number in range(30):\n",
        "  new_alien={'color': 'blue','points':25}\n",
        "  aliens.append(new_alien)\n",
        "#show the first five aliens\n",
        "for alien in aliens[:6]:\n",
        "  print(alien)\n",
        "print(\"\\n\")  \n",
        "\n",
        "#print the size of the list[aliens] \n",
        "print(f\"total number of aliens id :{len(aliens)}\")   \n",
        "\n",
        "#Below code will change the first three objects of aliens\n",
        "\n",
        "#we  want to update the first three values that's why we have used the slice []:3]\n",
        "for alien in aliens[0:3]:\n",
        "  if alien['color']=='green':\n",
        "    alien['color']='blue'\n",
        "    alien['points']=50\n",
        "  elif alien['color']=='blue':\n",
        "    alien['color']='pink'\n",
        "    alien['points']=22 \n",
        "for alien in aliens[:6]:\n",
        "  print(alien)    \n",
        "\n"
      ],
      "execution_count": null,
      "outputs": [
        {
          "output_type": "stream",
          "name": "stdout",
          "text": [
            "{'color': 'blue', 'points': 25}\n",
            "{'color': 'blue', 'points': 25}\n",
            "{'color': 'blue', 'points': 25}\n",
            "{'color': 'blue', 'points': 25}\n",
            "{'color': 'blue', 'points': 25}\n",
            "{'color': 'blue', 'points': 25}\n",
            "\n",
            "\n",
            "total number of aliens id :30\n",
            "{'color': 'pink', 'points': 22}\n",
            "{'color': 'pink', 'points': 22}\n",
            "{'color': 'pink', 'points': 22}\n",
            "{'color': 'blue', 'points': 25}\n",
            "{'color': 'blue', 'points': 25}\n",
            "{'color': 'blue', 'points': 25}\n"
          ]
        }
      ]
    },
    {
      "cell_type": "code",
      "metadata": {
        "colab": {
          "base_uri": "https://localhost:8080/"
        },
        "id": "URH9WHZ6MCi3",
        "outputId": "f239c7dc-18bc-4053-db43-8f2787fae646"
      },
      "source": [
        "# A list in a dictionary\n",
        "#Create a dictionary pizza and list name of toppings\n",
        "\n",
        "pizza={\n",
        "    'crust': 'thin crust',\n",
        "    'toppings':['vegetable','mushrooms','cheese','corns'],\n",
        "}\n",
        "\n",
        "#summarise the order\n",
        "print(f\"you have ordered the {pizza['crust']} pizza \\n\"\n",
        "\"with the following toppings:\")\n",
        "\n",
        "for topp in pizza['toppings']:\n",
        "  print(\"\\t\"+topp)\n",
        "print(\"Your pizza will be ready in 15 mins. Thanks for coming !!!\")\n",
        "\n",
        "\n"
      ],
      "execution_count": null,
      "outputs": [
        {
          "output_type": "stream",
          "name": "stdout",
          "text": [
            "you have ordered the thin crust pizza \n",
            "with the following toppings:\n",
            "\tvegetable\n",
            "\tmushrooms\n",
            "\tcheese\n",
            "\tcorns\n",
            "Your pizza will be ready in 15 mins. Thanks for coming !!!\n"
          ]
        }
      ]
    },
    {
      "cell_type": "code",
      "metadata": {
        "colab": {
          "base_uri": "https://localhost:8080/"
        },
        "id": "cXBIHEKPXHP2",
        "outputId": "a20b5286-37a6-46aa-9961-9283b8eac759"
      },
      "source": [
        "# create a dictionary of students fav programming languages.\n",
        "\n",
        "fav_lang={\n",
        "    'Mayank':['python','java'],\n",
        "    'Alok':['c'],\n",
        "    'Abhay':['rube','c++'],\n",
        "}\n",
        "\n",
        "for name,lang in fav_lang.items():\n",
        "  print(f\"{name.title()} loves the following:\")\n",
        "  for lan in lang:\n",
        "    print(f\"\\t{lan.title()}\")\n",
        "  "
      ],
      "execution_count": 21,
      "outputs": [
        {
          "output_type": "stream",
          "name": "stdout",
          "text": [
            "Mayank loves the following:\n",
            "\tPython\n",
            "\tJava\n",
            "Alok loves the following:\n",
            "\tC\n",
            "Abhay loves the following:\n",
            "\tRube\n",
            "\tC++\n"
          ]
        }
      ]
    },
    {
      "cell_type": "code",
      "metadata": {
        "colab": {
          "base_uri": "https://localhost:8080/"
        },
        "id": "NxPo0UoEb6zC",
        "outputId": "df0dc069-161f-419d-e6c3-aa944a782a82"
      },
      "source": [
        "#Below code is for dictionary inside the dictionary\n",
        "\n",
        "users={\n",
        "    'mayank':{\n",
        "        'Full name': 'mayank bhandari',\n",
        "        'city':'haridwar',\n",
        "        'age':26,\n",
        "    },\n",
        "    'Alok':{\n",
        "        'Full name':'Alok uniyal',\n",
        "        'city': 'Dehardun',\n",
        "        'age':26\n",
        "    }\n",
        "}\n",
        "\n",
        "for username, info in users.items():\n",
        "  fname= info['Full name']\n",
        "  place=info['city']\n",
        "  old=info['age']\n",
        "  print(f\"{username}'s full name is {fname},city is {place} and age is {old}\")"
      ],
      "execution_count": 29,
      "outputs": [
        {
          "output_type": "stream",
          "name": "stdout",
          "text": [
            "mayank's full name is mayank bhandari,city is haridwar and age is 26\n",
            "Alok's full name is Alok uniyal,city is Dehardun and age is 26\n"
          ]
        }
      ]
    }
  ]
}